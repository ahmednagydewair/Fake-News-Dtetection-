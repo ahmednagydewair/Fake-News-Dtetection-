{
 "cells": [
  {
   "cell_type": "code",
   "execution_count": 1,
   "metadata": {},
   "outputs": [],
   "source": [
    "import pandas as pd \n",
    "import numpy as np \n",
    "import re \n",
    "from nltk.corpus import stopwords\n",
    "from nltk.stem.porter import PorterStemmer \n",
    "from nltk.stem import WordNetLemmatizer\n",
    "from nltk import pos_tag"
   ]
  },
  {
   "cell_type": "code",
   "execution_count": 10,
   "metadata": {},
   "outputs": [],
   "source": [
    "df = pd.read_csv(\"preprocessed.csv\")\n",
    "\n",
    "\n",
    "\n",
    "\n",
    "lemmatizer = WordNetLemmatizer()\n",
    "\n",
    "def clean_text (title):\n",
    "    \n",
    "    title = title.split()\n",
    "    title = [lemmatizer.lemmatize(word,pos='v') for word in title if not word in set (stopwords.words('english'))]\n",
    "    title = ' '.join(title)\n",
    "    return title"
   ]
  },
  {
   "cell_type": "code",
   "execution_count": 11,
   "metadata": {},
   "outputs": [],
   "source": [
    "df[\"title\"]=df[\"title\"].astype(\"category\")"
   ]
  },
  {
   "cell_type": "code",
   "execution_count": 12,
   "metadata": {},
   "outputs": [],
   "source": [
    "df['title'] = df['title'].apply(clean_text)   "
   ]
  },
  {
   "cell_type": "code",
   "execution_count": 15,
   "metadata": {},
   "outputs": [],
   "source": [
    "df[\"text\"]=df[\"text\"].astype(\"category\")"
   ]
  },
  {
   "cell_type": "code",
   "execution_count": 16,
   "metadata": {},
   "outputs": [],
   "source": [
    "df['text'] = df['text'].apply(clean_text)"
   ]
  },
  {
   "cell_type": "code",
   "execution_count": 20,
   "metadata": {},
   "outputs": [],
   "source": [
    "\n",
    "df.to_csv(\"preprocessed including verbs.csv\", encoding='utf-8', index=False)"
   ]
  },
  {
   "cell_type": "code",
   "execution_count": 19,
   "metadata": {},
   "outputs": [
    {
     "data": {
      "text/html": [
       "<div>\n",
       "<style scoped>\n",
       "    .dataframe tbody tr th:only-of-type {\n",
       "        vertical-align: middle;\n",
       "    }\n",
       "\n",
       "    .dataframe tbody tr th {\n",
       "        vertical-align: top;\n",
       "    }\n",
       "\n",
       "    .dataframe thead th {\n",
       "        text-align: right;\n",
       "    }\n",
       "</style>\n",
       "<table border=\"1\" class=\"dataframe\">\n",
       "  <thead>\n",
       "    <tr style=\"text-align: right;\">\n",
       "      <th></th>\n",
       "      <th>title</th>\n",
       "      <th>text</th>\n",
       "      <th>label</th>\n",
       "    </tr>\n",
       "  </thead>\n",
       "  <tbody>\n",
       "    <tr>\n",
       "      <th>0</th>\n",
       "      <td>smell hillary fear</td>\n",
       "      <td>daniel greenfield shillman journalism fellow f...</td>\n",
       "      <td>0</td>\n",
       "    </tr>\n",
       "    <tr>\n",
       "      <th>1</th>\n",
       "      <td>watch exact moment paul ryan commit political ...</td>\n",
       "      <td>google pinterest digg linkedin reddit stumbleu...</td>\n",
       "      <td>0</td>\n",
       "    </tr>\n",
       "    <tr>\n",
       "      <th>2</th>\n",
       "      <td>kerry go paris gesture sympathy</td>\n",
       "      <td>u secretary state john f kerry say monday stop...</td>\n",
       "      <td>1</td>\n",
       "    </tr>\n",
       "    <tr>\n",
       "      <th>3</th>\n",
       "      <td>bernie supporter twitter erupt anger dnc try warn</td>\n",
       "      <td>kaydee king kaydeeking november lesson tonight...</td>\n",
       "      <td>0</td>\n",
       "    </tr>\n",
       "    <tr>\n",
       "      <th>4</th>\n",
       "      <td>battle new york primary matter</td>\n",
       "      <td>primary day new york front runner hillary clin...</td>\n",
       "      <td>1</td>\n",
       "    </tr>\n",
       "    <tr>\n",
       "      <th>5</th>\n",
       "      <td>tehran usa</td>\n",
       "      <td>immigrant grandparent year ago arrive new york...</td>\n",
       "      <td>0</td>\n",
       "    </tr>\n",
       "    <tr>\n",
       "      <th>6</th>\n",
       "      <td>girl horrify watch boyfriend leave facetime</td>\n",
       "      <td>share baylee luciani leave screenshot baylee c...</td>\n",
       "      <td>0</td>\n",
       "    </tr>\n",
       "    <tr>\n",
       "      <th>7</th>\n",
       "      <td>britain schindler dy</td>\n",
       "      <td>czech stockbroker save jewish child nazi germa...</td>\n",
       "      <td>1</td>\n",
       "    </tr>\n",
       "    <tr>\n",
       "      <th>8</th>\n",
       "      <td>fact check trump clinton commander chief forum</td>\n",
       "      <td>hillary clinton donald trump make inaccurate c...</td>\n",
       "      <td>1</td>\n",
       "    </tr>\n",
       "    <tr>\n",
       "      <th>9</th>\n",
       "      <td>iran reportedly make new push uranium concessi...</td>\n",
       "      <td>iranian negotiator reportedly make last ditch ...</td>\n",
       "      <td>1</td>\n",
       "    </tr>\n",
       "  </tbody>\n",
       "</table>\n",
       "</div>"
      ],
      "text/plain": [
       "                                               title  \\\n",
       "0                                 smell hillary fear   \n",
       "1  watch exact moment paul ryan commit political ...   \n",
       "2                    kerry go paris gesture sympathy   \n",
       "3  bernie supporter twitter erupt anger dnc try warn   \n",
       "4                     battle new york primary matter   \n",
       "5                                         tehran usa   \n",
       "6        girl horrify watch boyfriend leave facetime   \n",
       "7                               britain schindler dy   \n",
       "8     fact check trump clinton commander chief forum   \n",
       "9  iran reportedly make new push uranium concessi...   \n",
       "\n",
       "                                                text  label  \n",
       "0  daniel greenfield shillman journalism fellow f...      0  \n",
       "1  google pinterest digg linkedin reddit stumbleu...      0  \n",
       "2  u secretary state john f kerry say monday stop...      1  \n",
       "3  kaydee king kaydeeking november lesson tonight...      0  \n",
       "4  primary day new york front runner hillary clin...      1  \n",
       "5  immigrant grandparent year ago arrive new york...      0  \n",
       "6  share baylee luciani leave screenshot baylee c...      0  \n",
       "7  czech stockbroker save jewish child nazi germa...      1  \n",
       "8  hillary clinton donald trump make inaccurate c...      1  \n",
       "9  iranian negotiator reportedly make last ditch ...      1  "
      ]
     },
     "execution_count": 19,
     "metadata": {},
     "output_type": "execute_result"
    }
   ],
   "source": [
    "df.head(10)"
   ]
  },
  {
   "cell_type": "code",
   "execution_count": 17,
   "metadata": {},
   "outputs": [
    {
     "data": {
      "text/plain": [
       "'daniel greenfield shillman journalism fellow freedom center new york writer focus radical islam final stretch election hillary rodham clinton go war fbi word unprecedented throw around often election ought retire still unprecedented nominee major political party go war fbi exactly hillary people do coma patient wake watch hour cnn hospital bed would assume fbi director jam comey hillary opponent election fbi attack everyone obama cnn hillary people circulate letter attack comey currently medium hit piece lambast target trump surprise clinton ally start run attack ad fbi fbi leadership warn entire leave wing establishment form lynch mob continue go hillary fbi credibility attack medium democrat preemptively head result investigation clinton foundation hillary clinton covert struggle fbi agent obama doj people go explosively public new york time compare comey j edgar hoover bizarre headline jam comey role recall hoover fbi fairly practically admit front spout nonsense boston globe publish column call comey resignation outdo time editorial claim scandal really attack woman jam carville appear msnbc remind everyone still alive insane accuse comey coordinate house republican kgb think vast right wing conspiracy stretch countless medium story charge comey violate procedure know procedural violation email classify information store bathroom server senator harry reid send comey letter accuse violate hatch act hatch act nice idea much relevance age obama tenth amendment cable news spectrum quickly fill medium hack glance wikipedia article hatch act table accuse fbi director one awkward conspiracy hillary ever jam comey really hurt hillary pick one hell strange way long ago democrat breathe sigh relief give hillary clinton pas prominent public statement really elect trump keep email scandal go trash investigation payroll house republican kgb back play coy sudden development vladimir putin paul ryan talk take look anthony weiner computer either comey cunning fbi director ever live awkwardly try navigate political mess trap doj leadership whose political future tie hillary victory bureau whose apolitical agent want allow job truly mysterious thing hillary associate decide go war respect federal agency american like fbi hillary clinton enjoy unfavorable rat interest question hillary old strategy lie deny fbi even criminal investigation underway instead associate insist security review fbi correct shrug old breezy denial approach give way savage assault fbi pretend nothing wrong bad strategy better one pick fight fbi lunatic clinton associate try claim fbi really kgb two possible explanation hillary clinton might arrogant enough lash fbi belief victory near kind hubris lead plan victory firework display could lead declare war fbi irritate final mile campaign explanation people panic go war fbi behavior smart focus presidential campaign act desperation presidential candidate decide option try destroy credibility fbi hubris fear fbi might reveal original fbi investigation hillary clinton confident could ride good reason believe hillary clinton go place paranoid wreck within short space time positive clinton campaign promise unite country replace desperate flail operation focus energy fight fbi one reason bizarre behavior clinton campaign decide fbi investigation latest batch email pose threat survival go fight fbi unprecedented step bear fear hard know whether fear justify existence fear already tell u whole lot clinton loyalist rig old investigation know outcome ahead time well know debate question suddenly longer control afraid smell fear fbi wiretap investigation clinton foundation find new email time clintonworld panic spinmeister clintonworld claim email scandal much smoke without fire appearance impropriety without substance react smoke respond fire misguide assault fbi tell u hillary clinton ally afraid revelation bigger fundamental illegality email setup email setup preemptive cover clinton campaign panic badly belief right wrong whatever crime illegal setup mean cover risk expose clinton weather countless scandal year whatever protect time around bigger usual corruption bribery sexual assault abuse power follow around throughout year bigger damage allegation already come want fbi investigator anywhere near campaign comey pure intimidation also warn senior fbi people value career warn stay away democrat close rank around nominee fbi ugly unprecedented scene may also last stand hillary clinton awkwardly wind way numerous scandal election cycle never show fear desperation change whatever afraid lie bury email huma abedin bring like nothing else'"
      ]
     },
     "execution_count": 17,
     "metadata": {},
     "output_type": "execute_result"
    }
   ],
   "source": [
    "df[\"text\"][0]"
   ]
  },
  {
   "cell_type": "code",
   "execution_count": null,
   "metadata": {},
   "outputs": [],
   "source": []
  }
 ],
 "metadata": {
  "kernelspec": {
   "display_name": "Python 3",
   "language": "python",
   "name": "python3"
  },
  "language_info": {
   "codemirror_mode": {
    "name": "ipython",
    "version": 3
   },
   "file_extension": ".py",
   "mimetype": "text/x-python",
   "name": "python",
   "nbconvert_exporter": "python",
   "pygments_lexer": "ipython3",
   "version": "3.6.5"
  }
 },
 "nbformat": 4,
 "nbformat_minor": 2
}
