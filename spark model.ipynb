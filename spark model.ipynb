{
 "cells": [
  {
   "cell_type": "code",
   "execution_count": 1,
   "metadata": {
    "collapsed": false
   },
   "outputs": [],
   "source": [
    "from nltk.stem import WordNetLemmatizer\n",
    "from nltk import pos_tag\n",
    "import nltk\n",
    "#nltk.download('punkt')\n",
    "#nltk.download('wordnet')\n",
    "#nltk.download(\"stopwords')\n",
    "from nltk.stem import WordNetLemmatizer\n",
    "from pyspark.sql import SQLContext\n",
    "sqlContext = SQLContext(sc)\n",
    "from nltk.corpus import stopwords\n",
    "import re \n",
    "from pyspark.ml.evaluation import MulticlassClassificationEvaluator\n",
    "import time"
   ]
  },
  {
   "cell_type": "code",
   "execution_count": 2,
   "metadata": {
    "collapsed": false
   },
   "outputs": [],
   "source": [
    "data= sc.textFile(\"fake_true.csv\")\n",
    "\n"
   ]
  },
  {
   "cell_type": "code",
   "execution_count": 3,
   "metadata": {
    "collapsed": false
   },
   "outputs": [
    {
     "data": {
      "text/plain": [
       "6342"
      ]
     },
     "execution_count": 3,
     "metadata": {},
     "output_type": "execute_result"
    }
   ],
   "source": [
    "data.count()"
   ]
  },
  {
   "cell_type": "code",
   "execution_count": 4,
   "metadata": {
    "collapsed": true
   },
   "outputs": [],
   "source": [
    "data = data.filter(lambda x: \"label\" not in x)"
   ]
  },
  {
   "cell_type": "code",
   "execution_count": 6,
   "metadata": {
    "collapsed": false
   },
   "outputs": [
    {
     "data": {
      "text/plain": [
       "['smell hillary fear;daniel greenfield shillman journalism fellow freedom center new york writer focusing radical islam final stretch election hillary rodham clinton gone war fbi word unprecedented thrown around often election ought retired still unprecedented nominee major political party go war fbi exactly hillary people done coma patients waking watching hour cnn hospital beds would assume fbi director james comey hillary opponent election fbi attack everyone obama cnn hillary people circulated letter attacking comey currently media hit pieces lambasting targeting trump surprising clintons allies start running attack ads fbi fbi leadership warned entire left wing establishment form lynch mob continue going hillary fbi credibility attacked media democrats preemptively head results investigation clinton foundation hillary clinton covert struggle fbi agents obama doj people gone explosively public new york times compared comey j edgar hoover bizarre headline james comey role recalls hoover fbi fairly practically admits front spouting nonsense boston globe published column calling comey resignation outdone time editorial claiming scandal really attack women james carville appeared msnbc remind everyone still alive insane accused comey coordinating house republicans kgb thought vast right wing conspiracy stretch countless media stories charge comey violating procedure know procedural violation emailing classified information stored bathroom server senator harry reid sent comey letter accusing violating hatch act hatch act nice idea much relevance age obama tenth amendment cable news spectrum quickly filled media hacks glancing wikipedia article hatch act table accusing fbi director one awkward conspiracies hillary ever james comey really hurt hillary picked one hell strange way long ago democrats breathing sigh relief gave hillary clinton pass prominent public statement really elect trump keeping email scandal going trash investigation payroll house republicans kgb back playing coy sudden development vladimir putin paul ryan talked taking look anthony weiner computer either comey cunning fbi director ever lived awkwardly trying navigate political mess trapped doj leadership whose political futures tied hillary victory bureau whose apolitical agents want allowed jobs truly mysterious thing hillary associates decided go war respected federal agency americans like fbi hillary clinton enjoys unfavorable rating interesting question hillary old strategy lie deny fbi even criminal investigation underway instead associates insisted security review fbi corrected shrugged old breezy denial approach given way savage assault fbi pretending nothing wrong bad strategy better one picking fight fbi lunatic clinton associates try claim fbi really kgb two possible explanations hillary clinton might arrogant enough lash fbi believes victory near kind hubris led plan victory fireworks display could lead declare war fbi irritating final miles campaign explanation people panicked going war fbi behavior smart focused presidential campaign act desperation presidential candidate decides option try destroy credibility fbi hubris fear fbi might reveal original fbi investigation hillary clinton confident could ride good reason believing hillary clinton gone place paranoid wreck within short space time positive clinton campaign promising unite country replaced desperate flailing operation focused energy fighting fbi one reason bizarre behavior clinton campaign decided fbi investigation latest batch emails poses threat survival gone fighting fbi unprecedented step born fear hard know whether fear justified existence fear already tells us whole lot clinton loyalists rigged old investigation knew outcome ahead time well knew debate questions suddenly longer control afraid smell fear fbi wiretaps investigation clinton foundation finding new emails time clintonworld panicked spinmeisters clintonworld claimed email scandal much smoke without fire appearance impropriety without substance react smoke respond fire misguided assault fbi tells us hillary clinton allies afraid revelation bigger fundamental illegality email setup email setup preemptive cover clinton campaign panicked badly belief right wrong whatever crime illegal setup meant cover risk exposed clintons weathered countless scandals years whatever protecting time around bigger usual corruption bribery sexual assaults abuses power followed around throughout years bigger damaging allegations already come want fbi investigators anywhere near campaign comey pure intimidation also warning senior fbi people value careers warned stay away democrats closing ranks around nominee fbi ugly unprecedented scene may also last stand hillary clinton awkwardly wound way numerous scandals election cycle never shown fear desperation changed whatever afraid lies buried emails huma abedin bring like nothing else;0',\n",
       " 'watch exact moment paul ryan committed political suicide trump rally video;google pinterest digg linkedin reddit stumbleupon print delicious pocket tumblr two fundamental truths world paul ryan desperately wants president paul ryan never president today proved particularly staggering example political cowardice paul ryan reversed course announced back trump train aboutface weeks ago previously declared would supporting defending trump tape made public trump bragged assaulting women suddenly ryan appearing pro trump rally boldly declaring already sent vote make president united states surreal moment figurehead republican party dosed gasoline got stage chilly afternoon wisconsin lit match speakerryan says voted realdonaldtrump republicans time come home https co vytt yvoe pic twitter com wcvscg abc news politics abcpolitics november democratic party asked better moment film ryan chances ever becoming president went zero instant wreckage trump leave behind wake cravenly backed campaign recover ryan career manages limp way dnc tape locked loaded used every ad election day ringing endorsement man clearly hates personal level speaks volumes spinelessness ryan postured principled conservative one uncomfortable trump unapologetic bigotry sexism however push came shove paul ryan like many colleagues turned sniveling appeaser lofty tak conviction principles house cards collapsed slightest breeze especially bizarre close ryan came making unscathed months speaker house refused comment trump strategy seemed keep head pretend trump exist hope nobody remembered happened days away election screwed ugly election done good exposing utter cowardice republicans feigned moral courage reality television star spit hijacked party insulted wives got every last one kneel turn events featured image via twitter;0']"
      ]
     },
     "execution_count": 6,
     "metadata": {},
     "output_type": "execute_result"
    }
   ],
   "source": [
    "data.take(2)"
   ]
  },
  {
   "cell_type": "code",
   "execution_count": 7,
   "metadata": {
    "collapsed": false
   },
   "outputs": [],
   "source": [
    "def word_tokenize1(x):\n",
    "    x =re.sub('[^a-zA-Z]' ,' ', x)\n",
    "    x = x.lower()\n",
    "    return nltk.word_tokenize(x)\n",
    "\n",
    "   \n",
    "\n",
    "def lemma(x):\n",
    "    lemmatizer = WordNetLemmatizer()\n",
    "\n",
    "    z=[lemmatizer.lemmatize(word) for word in x  if not word in set (stopwords.words('english'))]\n",
    "    z = [lemmatizer.lemmatize(word,pos='v') for word in z]\n",
    "  \n",
    "    z = ' '.join(z)\n",
    "    return z"
   ]
  },
  {
   "cell_type": "code",
   "execution_count": 28,
   "metadata": {
    "collapsed": true
   },
   "outputs": [],
   "source": [
    "def preprocessing(inputs):\n",
    "    inputss = inputs.split(\";\")\n",
    "    title=word_tokenize1(inputss[0])\n",
    "    title=lemma(title)\n",
    "    text=word_tokenize1(inputss[1])\n",
    "    text=lemma(text)\n",
    "   \n",
    "    if inputss[2]==\"0\":\n",
    "        LABEL=0.0\n",
    "    else:\n",
    "        LABEL=1.0\n",
    "    return [LABEL,text,title]"
   ]
  },
  {
   "cell_type": "code",
   "execution_count": 9,
   "metadata": {
    "collapsed": false
   },
   "outputs": [],
   "source": [
    "\n",
    "data= data.map(preprocessing)\n",
    "\n"
   ]
  },
  {
   "cell_type": "code",
   "execution_count": 10,
   "metadata": {
    "collapsed": false
   },
   "outputs": [],
   "source": [
    "#pretime"
   ]
  },
  {
   "cell_type": "code",
   "execution_count": 11,
   "metadata": {
    "collapsed": false
   },
   "outputs": [
    {
     "data": {
      "text/plain": [
       "[[0.0,\n",
       "  'daniel greenfield shillman journalism fellow freedom center new york writer focus radical islam final stretch election hillary rodham clinton go war fbi word unprecedented throw around often election ought retire still unprecedented nominee major political party go war fbi exactly hillary people do coma patient wake watch hour cnn hospital bed would assume fbi director jam comey hillary opponent election fbi attack everyone obama cnn hillary people circulate letter attack comey currently medium hit piece lambast target trump surprise clinton ally start run attack ad fbi fbi leadership warn entire leave wing establishment form lynch mob continue go hillary fbi credibility attack medium democrat preemptively head result investigation clinton foundation hillary clinton covert struggle fbi agent obama doj people go explosively public new york time compare comey j edgar hoover bizarre headline jam comey role recall hoover fbi fairly practically admit front spout nonsense boston globe publish column call comey resignation outdo time editorial claim scandal really attack woman jam carville appear msnbc remind everyone still alive insane accuse comey coordinate house republican kgb think vast right wing conspiracy stretch countless medium story charge comey violate procedure know procedural violation email classify information store bathroom server senator harry reid send comey letter accuse violate hatch act hatch act nice idea much relevance age obama tenth amendment cable news spectrum quickly fill medium hack glance wikipedia article hatch act table accuse fbi director one awkward conspiracy hillary ever jam comey really hurt hillary pick one hell strange way long ago democrat breathe sigh relief give hillary clinton pas prominent public statement really elect trump keep email scandal go trash investigation payroll house republican kgb back play coy sudden development vladimir putin paul ryan talk take look anthony weiner computer either comey cunning fbi director ever live awkwardly try navigate political mess trap doj leadership whose political future tie hillary victory bureau whose apolitical agent want allow job truly mysterious thing hillary associate decide go war respect federal agency american like fbi hillary clinton enjoy unfavorable rat interest question hillary old strategy lie deny fbi even criminal investigation underway instead associate insist security review fbi correct shrug old breezy denial approach give way savage assault fbi pretend nothing wrong bad strategy better one pick fight fbi lunatic clinton associate try claim fbi really kgb two possible explanation hillary clinton might arrogant enough lash fbi belief victory near kind hubris lead plan victory firework display could lead declare war fbi irritate final mile campaign explanation people panic go war fbi behavior smart focus presidential campaign act desperation presidential candidate decide option try destroy credibility fbi hubris fear fbi might reveal original fbi investigation hillary clinton confident could ride good reason believe hillary clinton go place paranoid wreck within short space time positive clinton campaign promise unite country replace desperate flail operation focus energy fight fbi one reason bizarre behavior clinton campaign decide fbi investigation latest batch email pose threat survival go fight fbi unprecedented step bear fear hard know whether fear justify existence fear already tell u whole lot clinton loyalist rig old investigation know outcome ahead time well know debate question suddenly longer control afraid smell fear fbi wiretap investigation clinton foundation find new email time clintonworld panic spinmeister clintonworld claim email scandal much smoke without fire appearance impropriety without substance react smoke respond fire misguide assault fbi tell u hillary clinton ally afraid revelation bigger fundamental illegality email setup email setup preemptive cover clinton campaign panic badly belief right wrong whatever crime illegal setup mean cover risk expose clinton weather countless scandal year whatever protect time around bigger usual corruption bribery sexual assault abuse power follow around throughout year bigger damage allegation already come want fbi investigator anywhere near campaign comey pure intimidation also warn senior fbi people value career warn stay away democrat close rank around nominee fbi ugly unprecedented scene may also last stand hillary clinton awkwardly wind way numerous scandal election cycle never show fear desperation change whatever afraid lie bury email huma abedin bring like nothing else',\n",
       "  'smell hillary fear'],\n",
       " [0.0,\n",
       "  'google pinterest digg linkedin reddit stumbleupon print delicious pocket tumblr two fundamental truth world paul ryan desperately want president paul ryan never president today prove particularly stagger example political cowardice paul ryan reverse course announce back trump train aboutface week ago previously declare would support defend trump tape make public trump brag assault woman suddenly ryan appear pro trump rally boldly declare already send vote make president unite state surreal moment figurehead republican party dose gasoline get stage chilly afternoon wisconsin light match speakerryan say vote realdonaldtrump republican time come home http co vytt yvoe pic twitter com wcvscg abc news politics abcpolitics november democratic party ask better moment film ryan chance ever become president go zero instant wreckage trump leave behind wake cravenly back campaign recover ryan career manage limp way dnc tape lock load use every ad election day ring endorsement man clearly hate personal level speak volume spinelessness ryan posture principled conservative one uncomfortable trump unapologetic bigotry sexism however push come shove paul ryan like many colleague turn snivel appeaser lofty tak conviction principle house card collapse slightest breeze especially bizarre close ryan come make unscathed month speaker house refuse comment trump strategy seem keep head pretend trump exist hope nobody remember happen day away election screw ugly election do good expose utter cowardice republican feign moral courage reality television star spit hijack party insult wife get every last one kneel turn event feature image via twitter',\n",
       "  'watch exact moment paul ryan commit political suicide trump rally video']]"
      ]
     },
     "execution_count": 11,
     "metadata": {},
     "output_type": "execute_result"
    }
   ],
   "source": [
    "data.take(2)"
   ]
  },
  {
   "cell_type": "code",
   "execution_count": 12,
   "metadata": {
    "collapsed": false
   },
   "outputs": [],
   "source": [
    "df= sqlContext.createDataFrame(data,[\"label\",\"text\",\"title\"])"
   ]
  },
  {
   "cell_type": "code",
   "execution_count": 13,
   "metadata": {
    "collapsed": false
   },
   "outputs": [
    {
     "name": "stdout",
     "output_type": "stream",
     "text": [
      "+-----+--------------------+--------------------+\n",
      "|label|                text|               title|\n",
      "+-----+--------------------+--------------------+\n",
      "|  0.0|daniel greenfield...|  smell hillary fear|\n",
      "|  0.0|google pinterest ...|watch exact momen...|\n",
      "|  1.0|u secretary state...|kerry go paris ge...|\n",
      "|  0.0|kaydee king kayde...|bernie supporter ...|\n",
      "|  1.0|primary day new y...|battle new york p...|\n",
      "|  0.0|immigrant grandpa...|          tehran usa|\n",
      "|  0.0|share baylee luci...|girl horrify watc...|\n",
      "|  1.0|czech stockbroker...|britain schindler dy|\n",
      "|  1.0|hillary clinton d...|fact check trump ...|\n",
      "|  1.0|iranian negotiato...|iran reportedly m...|\n",
      "|  1.0|donald trump orga...|donald trump shoc...|\n",
      "|  0.0|click learn alexa...|strong solar stor...|\n",
      "|  0.0|october pretty fa...|way america prepa...|\n",
      "|  1.0|kill obama admini...|trump take cruz l...|\n",
      "|  1.0|woman move high o...|woman lead differ...|\n",
      "|  0.0|shock michele oba...|shock michele oba...|\n",
      "|  0.0|hillary clinton b...|hillary clinton h...|\n",
      "|  1.0|washington cnn mo...|iran bill obama like|\n",
      "|  1.0|page pew best dat...|chart explain eve...|\n",
      "|  0.0|november wire lea...|episode sunday wi...|\n",
      "+-----+--------------------+--------------------+\n",
      "only showing top 20 rows\n",
      "\n"
     ]
    }
   ],
   "source": [
    "df=df.dropna()\n",
    "df.show()"
   ]
  },
  {
   "cell_type": "code",
   "execution_count": 14,
   "metadata": {
    "collapsed": true
   },
   "outputs": [],
   "source": [
    "\n",
    "(trainingData,testData)= df.randomSplit([0.8,0.2])\n"
   ]
  },
  {
   "cell_type": "code",
   "execution_count": 16,
   "metadata": {
    "collapsed": false
   },
   "outputs": [],
   "source": [
    "#testData.take(2)\n",
    "\n",
    "#t2=time.time()\n",
    "#trainingData.take(2)\n",
    "#taketime=(time.time())-t2\n",
    "\n",
    "#taketime"
   ]
  },
  {
   "cell_type": "code",
   "execution_count": 15,
   "metadata": {
    "collapsed": false
   },
   "outputs": [],
   "source": [
    "#take care it is the Pipeline not pipeline\n",
    "from pyspark.ml import Pipeline\n",
    "from pyspark.ml.feature import HashingTF,Tokenizer\n",
    "from pyspark.ml.feature import IDF"
   ]
  },
  {
   "cell_type": "code",
   "execution_count": 17,
   "metadata": {
    "collapsed": true
   },
   "outputs": [],
   "source": [
    "#Tokenize each message (Split it into words)\n",
    "tokenizer = Tokenizer(inputCol=\"text\",outputCol=\"words\")\n",
    "\n",
    "#Build Text frequency \n",
    "hashingTF= HashingTF(inputCol=tokenizer.getOutputCol(),outputCol=\"tempfeatures\")\n",
    "\n",
    "#Build Inverted text frequency\n",
    "idf = IDF(inputCol=hashingTF.getOutputCol(),outputCol=\"features\")\n",
    "\n",
    "#Building the Model\n",
    "\n",
    "from pyspark.ml.classification import LogisticRegression\n",
    "lr = LogisticRegression()\n",
    "#lrModel = lr.fit(train)"
   ]
  },
  {
   "cell_type": "code",
   "execution_count": 18,
   "metadata": {
    "collapsed": true
   },
   "outputs": [],
   "source": [
    "#One flow in Pipeline\n",
    "# Initiate a pipeline. I could've done by individually tokenizer.fit(), \n",
    "#hashing_tf.fit(), idf.fit() etc.. But pipeline does this in one shot\n",
    "pipeline = Pipeline(stages = [tokenizer, hashingTF, idf, lr])"
   ]
  },
  {
   "cell_type": "code",
   "execution_count": 19,
   "metadata": {
    "collapsed": false
   },
   "outputs": [],
   "source": [
    "# Fit the training data to the classifier to create the Naive Bayes Model\n",
    "t3=time.time()\n",
    "lrModue = pipeline.fit(trainingData)\n",
    "modeltime=(time.time())-t3\n"
   ]
  },
  {
   "cell_type": "code",
   "execution_count": 22,
   "metadata": {
    "collapsed": false
   },
   "outputs": [
    {
     "data": {
      "text/plain": [
       "391.46261858940125"
      ]
     },
     "execution_count": 22,
     "metadata": {},
     "output_type": "execute_result"
    }
   ],
   "source": [
    "modeltime"
   ]
  },
  {
   "cell_type": "code",
   "execution_count": 23,
   "metadata": {
    "collapsed": false
   },
   "outputs": [
    {
     "data": {
      "text/plain": [
       "0.9103214890016921"
      ]
     },
     "execution_count": 23,
     "metadata": {},
     "output_type": "execute_result"
    }
   ],
   "source": [
    "t4=time.time()\n",
    "predictions= lrModue.transform(testData)\n",
    "\n",
    "evaluator = MulticlassClassificationEvaluator(predictionCol=\"prediction\",\n",
    "                                              labelCol=\"label\",\n",
    "                                              metricName=\"precision\")\n",
    "\n",
    "evaluator.evaluate(predictions)\n",
    "evals=(time.time())-t4"
   ]
  },
  {
   "cell_type": "code",
   "execution_count": 27,
   "metadata": {
    "collapsed": false
   },
   "outputs": [
    {
     "name": "stdout",
     "output_type": "stream",
     "text": [
      "+-----+----------+-----+\n",
      "|label|prediction|count|\n",
      "+-----+----------+-----+\n",
      "|  1.0|       1.0|  524|\n",
      "|  0.0|       0.0|  552|\n",
      "|  0.0|       1.0|   56|\n",
      "|  1.0|       0.0|   50|\n",
      "+-----+----------+-----+\n",
      "\n"
     ]
    }
   ],
   "source": [
    "\n",
    "\n",
    "\n",
    "# Form the confusion matrix of the data\n",
    "predictions.groupBy(\"label\",\"prediction\").count().show()"
   ]
  },
  {
   "cell_type": "code",
   "execution_count": null,
   "metadata": {
    "collapsed": true
   },
   "outputs": [],
   "source": []
  },
  {
   "cell_type": "code",
   "execution_count": null,
   "metadata": {
    "collapsed": true
   },
   "outputs": [],
   "source": []
  }
 ],
 "metadata": {
  "kernelspec": {
   "display_name": "Python 3",
   "language": "python",
   "name": "python3"
  },
  "language_info": {
   "codemirror_mode": {
    "name": "ipython",
    "version": 3
   },
   "file_extension": ".py",
   "mimetype": "text/x-python",
   "name": "python",
   "nbconvert_exporter": "python",
   "pygments_lexer": "ipython3",
   "version": "3.5.1"
  }
 },
 "nbformat": 4,
 "nbformat_minor": 0
}
